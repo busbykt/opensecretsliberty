{
 "cells": [
  {
   "cell_type": "code",
   "execution_count": 32,
   "metadata": {},
   "outputs": [],
   "source": [
    "import pandas as pd\n",
    "import numpy as np\n",
    "from requests import get\n",
    "import matplotlib.pyplot as plt"
   ]
  },
  {
   "cell_type": "code",
   "execution_count": 33,
   "metadata": {},
   "outputs": [],
   "source": [
    "%matplotlib inline"
   ]
  },
  {
   "cell_type": "code",
   "execution_count": 2,
   "metadata": {},
   "outputs": [],
   "source": [
    "url = 'https://www.opensecrets.org/pacs/pacgave2.php?sort=A&cmte=C00171843'\n",
    "response = get(url)"
   ]
  },
  {
   "cell_type": "code",
   "execution_count": 39,
   "metadata": {},
   "outputs": [
    {
     "name": "stdout",
     "output_type": "stream",
     "text": [
      "1998\n",
      "2000\n",
      "2002\n",
      "2004\n",
      "2006\n",
      "2008\n",
      "2010\n",
      "2012\n",
      "2014\n",
      "2016\n",
      "2018\n",
      "2020\n"
     ]
    }
   ],
   "source": [
    "#df = pd.read_html(response.text)[0]\n",
    "\n",
    "for cycle in np.arange(1998,2021,2):\n",
    "    print(cycle)\n",
    "    for page in np.arange(1,25,1):\n",
    "        site = 'https://www.opensecrets.org/pacs/pacgave2.php?sort=A&cmte=C00171843&cycle='+str(cycle)+'&Page='+str(page)\n",
    "        response=get(site)\n",
    "        try:\n",
    "            pdf = pd.read_html(response.text)[0]\n",
    "        except ValueError:\n",
    "            continue\n",
    "        if (cycle== 1998) & (page == 1):\n",
    "            df = pd.read_html(response.text)[0]\n",
    "        else:\n",
    "            df = pd.concat([df,pdf])\n",
    "            \n",
    "df.reset_index(inplace=True, drop=True)"
   ]
  },
  {
   "cell_type": "code",
   "execution_count": 40,
   "metadata": {},
   "outputs": [],
   "source": [
    "df['Amount'] = df['Amount'].replace('[$,]','',regex=True).astype('float')\n",
    "df['Date'] = df['Date'].astype('datetime64[ns]')"
   ]
  },
  {
   "cell_type": "code",
   "execution_count": 41,
   "metadata": {
    "scrolled": false
   },
   "outputs": [
    {
     "data": {
      "text/plain": [
       "Contrib               object\n",
       "Occupation            object\n",
       "Date          datetime64[ns]\n",
       "Amount               float64\n",
       "dtype: object"
      ]
     },
     "execution_count": 41,
     "metadata": {},
     "output_type": "execute_result"
    }
   ],
   "source": [
    "df.dtypes"
   ]
  },
  {
   "cell_type": "code",
   "execution_count": 69,
   "metadata": {
    "scrolled": false
   },
   "outputs": [
    {
     "data": {
      "text/plain": [
       "40832.0"
      ]
     },
     "execution_count": 69,
     "metadata": {},
     "output_type": "execute_result"
    }
   ],
   "source": [
    "df[df['Contrib'].str.contains('RYAN, TRACY')]['Amount'].sum()"
   ]
  },
  {
   "cell_type": "code",
   "execution_count": 62,
   "metadata": {
    "scrolled": true
   },
   "outputs": [
    {
     "data": {
      "text/html": [
       "<div>\n",
       "<style scoped>\n",
       "    .dataframe tbody tr th:only-of-type {\n",
       "        vertical-align: middle;\n",
       "    }\n",
       "\n",
       "    .dataframe tbody tr th {\n",
       "        vertical-align: top;\n",
       "    }\n",
       "\n",
       "    .dataframe thead th {\n",
       "        text-align: right;\n",
       "    }\n",
       "</style>\n",
       "<table border=\"1\" class=\"dataframe\">\n",
       "  <thead>\n",
       "    <tr style=\"text-align: right;\">\n",
       "      <th></th>\n",
       "      <th>Contrib</th>\n",
       "      <th>Occupation</th>\n",
       "      <th>Date</th>\n",
       "      <th>Amount</th>\n",
       "    </tr>\n",
       "  </thead>\n",
       "  <tbody>\n",
       "    <tr>\n",
       "      <th>386</th>\n",
       "      <td>LANGWELL, DENNISFRANKLIN, MA 02038</td>\n",
       "      <td>LIBERTY MUTUAL</td>\n",
       "      <td>2006-04-14</td>\n",
       "      <td>207.0</td>\n",
       "    </tr>\n",
       "    <tr>\n",
       "      <th>387</th>\n",
       "      <td>LANGWELL, DENNISFRANKLIN, MA 02038</td>\n",
       "      <td>LIBERTY MUTUAL</td>\n",
       "      <td>2006-04-28</td>\n",
       "      <td>207.0</td>\n",
       "    </tr>\n",
       "    <tr>\n",
       "      <th>396</th>\n",
       "      <td>LANGWELL, DENNISFRANKLIN, MA 02038</td>\n",
       "      <td>LIBERTY MUTUAL</td>\n",
       "      <td>2006-05-12</td>\n",
       "      <td>207.0</td>\n",
       "    </tr>\n",
       "    <tr>\n",
       "      <th>397</th>\n",
       "      <td>LANGWELL, DENNISFRANKLIN, MA 02038</td>\n",
       "      <td>LIBERTY MUTUAL</td>\n",
       "      <td>2006-05-26</td>\n",
       "      <td>207.0</td>\n",
       "    </tr>\n",
       "    <tr>\n",
       "      <th>394</th>\n",
       "      <td>LANGWELL, DENNISFRANKLIN, MA 02038</td>\n",
       "      <td>LIBERTY MUTUAL</td>\n",
       "      <td>2006-06-09</td>\n",
       "      <td>207.0</td>\n",
       "    </tr>\n",
       "    <tr>\n",
       "      <th>...</th>\n",
       "      <td>...</td>\n",
       "      <td>...</td>\n",
       "      <td>...</td>\n",
       "      <td>...</td>\n",
       "    </tr>\n",
       "    <tr>\n",
       "      <th>5137</th>\n",
       "      <td>LANGWELL, DENNIS JBOSTON, MA 02116</td>\n",
       "      <td>LIBERTY MUTUAL</td>\n",
       "      <td>2020-03-31</td>\n",
       "      <td>628.0</td>\n",
       "    </tr>\n",
       "    <tr>\n",
       "      <th>5133</th>\n",
       "      <td>LANGWELL, DENNIS JBOSTON, MA 02116</td>\n",
       "      <td>LIBERTY MUTUAL</td>\n",
       "      <td>2020-04-30</td>\n",
       "      <td>637.0</td>\n",
       "    </tr>\n",
       "    <tr>\n",
       "      <th>5129</th>\n",
       "      <td>LANGWELL, DENNIS JBOSTON, MA 02116</td>\n",
       "      <td>LIBERTY MUTUAL</td>\n",
       "      <td>2020-05-31</td>\n",
       "      <td>647.0</td>\n",
       "    </tr>\n",
       "    <tr>\n",
       "      <th>5128</th>\n",
       "      <td>LANGWELL, DENNIS JBOSTON, MA 02116</td>\n",
       "      <td>LIBERTY MUTUAL</td>\n",
       "      <td>2020-06-30</td>\n",
       "      <td>647.0</td>\n",
       "    </tr>\n",
       "    <tr>\n",
       "      <th>5053</th>\n",
       "      <td>LANGWELL, DENNIS JBOSTON, MA 02116</td>\n",
       "      <td>Liberty Mutual</td>\n",
       "      <td>2020-07-31</td>\n",
       "      <td>869.0</td>\n",
       "    </tr>\n",
       "  </tbody>\n",
       "</table>\n",
       "<p>184 rows × 4 columns</p>\n",
       "</div>"
      ],
      "text/plain": [
       "                                 Contrib      Occupation       Date  Amount\n",
       "386   LANGWELL, DENNISFRANKLIN, MA 02038  LIBERTY MUTUAL 2006-04-14   207.0\n",
       "387   LANGWELL, DENNISFRANKLIN, MA 02038  LIBERTY MUTUAL 2006-04-28   207.0\n",
       "396   LANGWELL, DENNISFRANKLIN, MA 02038  LIBERTY MUTUAL 2006-05-12   207.0\n",
       "397   LANGWELL, DENNISFRANKLIN, MA 02038  LIBERTY MUTUAL 2006-05-26   207.0\n",
       "394   LANGWELL, DENNISFRANKLIN, MA 02038  LIBERTY MUTUAL 2006-06-09   207.0\n",
       "...                                  ...             ...        ...     ...\n",
       "5137  LANGWELL, DENNIS JBOSTON, MA 02116  LIBERTY MUTUAL 2020-03-31   628.0\n",
       "5133  LANGWELL, DENNIS JBOSTON, MA 02116  LIBERTY MUTUAL 2020-04-30   637.0\n",
       "5129  LANGWELL, DENNIS JBOSTON, MA 02116  LIBERTY MUTUAL 2020-05-31   647.0\n",
       "5128  LANGWELL, DENNIS JBOSTON, MA 02116  LIBERTY MUTUAL 2020-06-30   647.0\n",
       "5053  LANGWELL, DENNIS JBOSTON, MA 02116  Liberty Mutual 2020-07-31   869.0\n",
       "\n",
       "[184 rows x 4 columns]"
      ]
     },
     "execution_count": 62,
     "metadata": {},
     "output_type": "execute_result"
    }
   ],
   "source": [
    "df[df['Contrib'].str.contains('LANGWELL')].sort_values('Date')"
   ]
  },
  {
   "cell_type": "code",
   "execution_count": 78,
   "metadata": {},
   "outputs": [
    {
     "data": {
      "image/png": "[encoded data removed]",
      "text/plain": [
       "<Figure size 648x432 with 1 Axes>"
      ]
     },
     "metadata": {
      "needs_background": "light"
     },
     "output_type": "display_data"
    }
   ],
   "source": [
    "plt.figure(figsize=[9,6])\n",
    "plt.scatter(df[df['Contrib'].str.contains('LONG, DAVID')]['Date'],\n",
    "            df[df['Contrib'].str.contains('LONG, DAVID')]['Amount'], label='David Long')\n",
    "plt.scatter(df[df['Contrib'].str.contains('LANGWELL, DENNIS')]['Date'],\n",
    "            df[df['Contrib'].str.contains('LANGWELL, DENNIS')]['Amount'], label='Dennis Langwell')\n",
    "plt.scatter(df[df['Contrib'].str.contains('FOLEY, MELANIE')]['Date'],\n",
    "            df[df['Contrib'].str.contains('FOLEY, MELANIE')]['Amount'], label='Melanie Foley')\n",
    "plt.scatter(df[df['Contrib'].str.contains('MIKOLAJEWSKI, TIMOTHY')]['Date'],\n",
    "            df[df['Contrib'].str.contains('MIKOLAJEWSKI, TIMOTHY')]['Amount'], label='Tim Mikolajewski')\n",
    "plt.ylabel('Contribution Amount ($)'); plt.xlabel('Time'); plt.title('Contributions over Time'); plt.legend();"
   ]
  }
 ],
 "metadata": {
  "kernelspec": {
   "display_name": "Python 3",
   "language": "python",
   "name": "python3"
  },
  "language_info": {
   "codemirror_mode": {
    "name": "ipython",
    "version": 3
   },
   "file_extension": ".py",
   "mimetype": "text/x-python",
   "name": "python",
   "nbconvert_exporter": "python",
   "pygments_lexer": "ipython3",
   "version": "3.7.7"
  }
 },
 "nbformat": 4,
 "nbformat_minor": 4
}
